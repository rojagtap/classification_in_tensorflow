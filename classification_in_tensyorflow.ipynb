{
  "nbformat": 4,
  "nbformat_minor": 0,
  "metadata": {
    "colab": {
      "name": "classification_in_tensyorflow.ipynb",
      "version": "0.3.2",
      "provenance": []
    },
    "kernelspec": {
      "name": "python2",
      "display_name": "Python 2"
    },
    "accelerator": "TPU"
  },
  "cells": [
    {
      "metadata": {
        "id": "V73BqWManwoN",
        "colab_type": "code",
        "outputId": "f34056db-2bcb-47ce-9ca1-cd0bfbadfbd4",
        "colab": {
          "base_uri": "https://localhost:8080/",
          "height": 34
        }
      },
      "cell_type": "code",
      "source": [
        "from google.colab import drive\n",
        "drive.mount('/content/gdrive')"
      ],
      "execution_count": 1,
      "outputs": [
        {
          "output_type": "stream",
          "text": [
            "Drive already mounted at /content/gdrive; to attempt to forcibly remount, call drive.mount(\"/content/gdrive\", force_remount=True).\n"
          ],
          "name": "stdout"
        }
      ]
    },
    {
      "metadata": {
        "id": "JbTrZ80eqzLT",
        "colab_type": "code",
        "colab": {}
      },
      "cell_type": "code",
      "source": [
        "import pandas as pd\n",
        "import numpy as np\n",
        "import tensorflow as tf"
      ],
      "execution_count": 0,
      "outputs": []
    },
    {
      "metadata": {
        "id": "0E7irBbIrK7f",
        "colab_type": "code",
        "colab": {}
      },
      "cell_type": "code",
      "source": [
        "df = pd.read_csv('/content/gdrive/My Drive/Colab Notebooks/data/classification_in_tensorflow/classification_in_tensorflow.csv')"
      ],
      "execution_count": 0,
      "outputs": []
    },
    {
      "metadata": {
        "id": "ZBu6P6VorPAv",
        "colab_type": "code",
        "colab": {}
      },
      "cell_type": "code",
      "source": [
        "sq_price = df.sq_price\n",
        "df = df.drop(['index', 'sq_price', 'price'], axis=1)"
      ],
      "execution_count": 0,
      "outputs": []
    },
    {
      "metadata": {
        "id": "l3IhVVbxhTDk",
        "colab_type": "text"
      },
      "cell_type": "markdown",
      "source": [
        "### if price per square feet < 190 then good deal"
      ]
    },
    {
      "metadata": {
        "id": "D-WrEQLargx5",
        "colab_type": "code",
        "outputId": "d4525392-d877-4ca0-82dd-74bccb0ff59b",
        "colab": {
          "base_uri": "https://localhost:8080/",
          "height": 195
        }
      },
      "cell_type": "code",
      "source": [
        "df.loc[:, ('y1')] = (sq_price < 190).astype(int)\n",
        "df.loc[:, ('y2')] = (sq_price > 190).astype(int)\n",
        "df.head()"
      ],
      "execution_count": 5,
      "outputs": [
        {
          "output_type": "execute_result",
          "data": {
            "text/html": [
              "<div>\n",
              "<style scoped>\n",
              "    .dataframe tbody tr th:only-of-type {\n",
              "        vertical-align: middle;\n",
              "    }\n",
              "\n",
              "    .dataframe tbody tr th {\n",
              "        vertical-align: top;\n",
              "    }\n",
              "\n",
              "    .dataframe thead th {\n",
              "        text-align: right;\n",
              "    }\n",
              "</style>\n",
              "<table border=\"1\" class=\"dataframe\">\n",
              "  <thead>\n",
              "    <tr style=\"text-align: right;\">\n",
              "      <th></th>\n",
              "      <th>area</th>\n",
              "      <th>bathrooms</th>\n",
              "      <th>y1</th>\n",
              "      <th>y2</th>\n",
              "    </tr>\n",
              "  </thead>\n",
              "  <tbody>\n",
              "    <tr>\n",
              "      <th>0</th>\n",
              "      <td>2104.0</td>\n",
              "      <td>3.0</td>\n",
              "      <td>0</td>\n",
              "      <td>1</td>\n",
              "    </tr>\n",
              "    <tr>\n",
              "      <th>1</th>\n",
              "      <td>1600.0</td>\n",
              "      <td>3.0</td>\n",
              "      <td>0</td>\n",
              "      <td>1</td>\n",
              "    </tr>\n",
              "    <tr>\n",
              "      <th>2</th>\n",
              "      <td>2400.0</td>\n",
              "      <td>3.0</td>\n",
              "      <td>1</td>\n",
              "      <td>0</td>\n",
              "    </tr>\n",
              "    <tr>\n",
              "      <th>3</th>\n",
              "      <td>1416.0</td>\n",
              "      <td>2.0</td>\n",
              "      <td>1</td>\n",
              "      <td>0</td>\n",
              "    </tr>\n",
              "    <tr>\n",
              "      <th>4</th>\n",
              "      <td>3000.0</td>\n",
              "      <td>4.0</td>\n",
              "      <td>1</td>\n",
              "      <td>0</td>\n",
              "    </tr>\n",
              "  </tbody>\n",
              "</table>\n",
              "</div>"
            ],
            "text/plain": [
              "     area  bathrooms  y1  y2\n",
              "0  2104.0        3.0   0   1\n",
              "1  1600.0        3.0   0   1\n",
              "2  2400.0        3.0   1   0\n",
              "3  1416.0        2.0   1   0\n",
              "4  3000.0        4.0   1   0"
            ]
          },
          "metadata": {
            "tags": []
          },
          "execution_count": 5
        }
      ]
    },
    {
      "metadata": {
        "id": "zFJfWbTzs5ff",
        "colab_type": "code",
        "outputId": "e8e4334d-9737-4df7-8bc4-35b524d102d7",
        "colab": {
          "base_uri": "https://localhost:8080/",
          "height": 84
        }
      },
      "cell_type": "code",
      "source": [
        "x_values = df.loc[:, ['area', 'bathrooms']].as_matrix()\n",
        "y_values = df.loc[:, ['y1', 'y2']].as_matrix()"
      ],
      "execution_count": 6,
      "outputs": [
        {
          "output_type": "stream",
          "text": [
            "/usr/local/lib/python2.7/dist-packages/ipykernel_launcher.py:1: FutureWarning: Method .as_matrix will be removed in a future version. Use .values instead.\n",
            "  \"\"\"Entry point for launching an IPython kernel.\n",
            "/usr/local/lib/python2.7/dist-packages/ipykernel_launcher.py:2: FutureWarning: Method .as_matrix will be removed in a future version. Use .values instead.\n",
            "  \n"
          ],
          "name": "stderr"
        }
      ]
    },
    {
      "metadata": {
        "id": "fLKYdGWouz9x",
        "colab_type": "code",
        "colab": {}
      },
      "cell_type": "code",
      "source": [
        "learning_rate = 0.000001\n",
        "number_of_epochs = 2000\n",
        "display_after_epoch = 50\n",
        "number_of_samples = y_values.size"
      ],
      "execution_count": 0,
      "outputs": []
    },
    {
      "metadata": {
        "id": "A1CiVoCRh0yB",
        "colab_type": "text"
      },
      "cell_type": "markdown",
      "source": [
        "![neural net](https://jalammar.github.io/images/softmax-regression-scalargraph.png)\n",
        "## This Neural Network with two inputs and outputs is demonstrated below"
      ]
    },
    {
      "metadata": {
        "id": "b6z4WZVRu7ww",
        "colab_type": "code",
        "colab": {
          "base_uri": "https://localhost:8080/",
          "height": 87
        },
        "outputId": "9e81c2cf-9f47-42b2-9b2b-0236f94dbe36"
      },
      "cell_type": "code",
      "source": [
        "x = tf.placeholder(tf.float32, [None, 2])\n",
        "\n",
        "W = tf.Variable(tf.zeros([2, 2]), name='W')\n",
        "b = tf.Variable(tf.zeros([2]), name='b')\n",
        "\n",
        "y_value = tf.add(tf.matmul(x, W), b)\n",
        "y = tf.nn.softmax(y_value)\n",
        "\n",
        "y_ = tf.placeholder(tf.float32, [None, 2])\n"
      ],
      "execution_count": 8,
      "outputs": [
        {
          "output_type": "stream",
          "text": [
            "WARNING:tensorflow:From /usr/local/lib/python2.7/dist-packages/tensorflow/python/framework/op_def_library.py:263: colocate_with (from tensorflow.python.framework.ops) is deprecated and will be removed in a future version.\n",
            "Instructions for updating:\n",
            "Colocations handled automatically by placer.\n"
          ],
          "name": "stdout"
        }
      ]
    },
    {
      "metadata": {
        "id": "M7MSpd6AwxCu",
        "colab_type": "code",
        "outputId": "a9c56ccf-00a0-4fa4-ad65-d58477686539",
        "colab": {
          "base_uri": "https://localhost:8080/",
          "height": 34
        }
      },
      "cell_type": "code",
      "source": [
        "y_value.shape"
      ],
      "execution_count": 9,
      "outputs": [
        {
          "output_type": "execute_result",
          "data": {
            "text/plain": [
              "TensorShape([Dimension(None), Dimension(2)])"
            ]
          },
          "metadata": {
            "tags": []
          },
          "execution_count": 9
        }
      ]
    },
    {
      "metadata": {
        "id": "WtgNJXxj1T4N",
        "colab_type": "code",
        "colab": {}
      },
      "cell_type": "code",
      "source": [
        "cost = tf.reduce_sum(tf.pow(y_ - y, 2)) / (2 * number_of_samples)\n",
        "optimizer = tf.train.GradientDescentOptimizer(learning_rate).minimize(cost)"
      ],
      "execution_count": 0,
      "outputs": []
    },
    {
      "metadata": {
        "id": "87HZ1tML2tFB",
        "colab_type": "code",
        "colab": {}
      },
      "cell_type": "code",
      "source": [
        "init = tf.global_variables_initializer()\n",
        "session = tf.Session()\n",
        "session.run(init)"
      ],
      "execution_count": 0,
      "outputs": []
    },
    {
      "metadata": {
        "id": "6CfzG9Q2wgtc",
        "colab_type": "code",
        "outputId": "fc067972-d83a-46e1-a517-a23bbc4cc0e1",
        "colab": {
          "base_uri": "https://localhost:8080/",
          "height": 773
        }
      },
      "cell_type": "code",
      "source": [
        "for i in range(number_of_epochs):\n",
        "    session.run(optimizer, feed_dict={x: x_values, y_: y_values})\n",
        "    \n",
        "    if i % display_after_epoch == 0:\n",
        "        current_loss_value = session.run(cost, feed_dict={x: x_values, y_: y_values})\n",
        "        print(\"Epoch: \" + str(i) + \" Cost = \" + str(current_loss_value))\n",
        "\n",
        "print(\"Optimization Finished!\")\n",
        "training_loss_value = session.run(cost, feed_dict={x: x_values, y_: y_values})\n",
        "print(\"Training Cost = \" + str(training_loss_value))\n",
        "print(\"Weights: \" + str(session.run(W)))\n",
        "print(\"Biases: \" + str(session.run(b)))"
      ],
      "execution_count": 12,
      "outputs": [
        {
          "output_type": "stream",
          "text": [
            "Epoch: 0 Cost = 0.10967552\n",
            "Epoch: 50 Cost = 0.106397524\n",
            "Epoch: 100 Cost = 0.106397524\n",
            "Epoch: 150 Cost = 0.10639752\n",
            "Epoch: 200 Cost = 0.1063975\n",
            "Epoch: 250 Cost = 0.10639748\n",
            "Epoch: 300 Cost = 0.10639748\n",
            "Epoch: 350 Cost = 0.106397495\n",
            "Epoch: 400 Cost = 0.10639747\n",
            "Epoch: 450 Cost = 0.10639747\n",
            "Epoch: 500 Cost = 0.10639747\n",
            "Epoch: 550 Cost = 0.106397465\n",
            "Epoch: 600 Cost = 0.106397465\n",
            "Epoch: 650 Cost = 0.106397465\n",
            "Epoch: 700 Cost = 0.10639745\n",
            "Epoch: 750 Cost = 0.106397435\n",
            "Epoch: 800 Cost = 0.10639742\n",
            "Epoch: 850 Cost = 0.10639742\n",
            "Epoch: 900 Cost = 0.10639742\n",
            "Epoch: 950 Cost = 0.10639741\n",
            "Epoch: 1000 Cost = 0.10639741\n",
            "Epoch: 1050 Cost = 0.106397405\n",
            "Epoch: 1100 Cost = 0.106397405\n",
            "Epoch: 1150 Cost = 0.106397405\n",
            "Epoch: 1200 Cost = 0.106397405\n",
            "Epoch: 1250 Cost = 0.106397375\n",
            "Epoch: 1300 Cost = 0.106397375\n",
            "Epoch: 1350 Cost = 0.10639736\n",
            "Epoch: 1400 Cost = 0.10639736\n",
            "Epoch: 1450 Cost = 0.10639736\n",
            "Epoch: 1500 Cost = 0.10639735\n",
            "Epoch: 1550 Cost = 0.10639735\n",
            "Epoch: 1600 Cost = 0.10639734\n",
            "Epoch: 1650 Cost = 0.10639734\n",
            "Epoch: 1700 Cost = 0.10639732\n",
            "Epoch: 1750 Cost = 0.10639731\n",
            "Epoch: 1800 Cost = 0.10639731\n",
            "Epoch: 1850 Cost = 0.10639731\n",
            "Epoch: 1900 Cost = 0.1063973\n",
            "Epoch: 1950 Cost = 0.1063973\n",
            "Optimization Finished!\n",
            "Training Cost = 0.1063973\n",
            "Weights: [[ 1.9016147e-04 -1.9015995e-04]\n",
            " [-1.0441422e-05  1.0441424e-05]]\n",
            "Biases: [-1.0861286e-05  1.0861285e-05]\n"
          ],
          "name": "stdout"
        }
      ]
    },
    {
      "metadata": {
        "id": "gyNOB-jZ5o6u",
        "colab_type": "code",
        "colab": {
          "base_uri": "https://localhost:8080/",
          "height": 806
        },
        "outputId": "bc721309-eabf-4643-de86-171b98f4e3ff"
      },
      "cell_type": "code",
      "source": [
        "session.run(y, feed_dict={x: x_values})"
      ],
      "execution_count": 13,
      "outputs": [
        {
          "output_type": "execute_result",
          "data": {
            "text/plain": [
              "array([[0.68999845, 0.31000158],\n",
              "       [0.64758253, 0.35241744],\n",
              "       [0.7135497 , 0.2864503 ],\n",
              "       [0.6314568 , 0.36854318],\n",
              "       [0.7578373 , 0.24216269],\n",
              "       [0.68023086, 0.31976917],\n",
              "       [0.64183295, 0.358167  ],\n",
              "       [0.632425  , 0.36757496],\n",
              "       [0.62825996, 0.37174004],\n",
              "       [0.6383283 , 0.36167172],\n",
              "       [0.67649674, 0.3235033 ],\n",
              "       [0.681475  , 0.31852505],\n",
              "       [0.6723258 , 0.3276742 ],\n",
              "       [0.84592   , 0.15407996],\n",
              "       [0.61825854, 0.38174143],\n",
              "       [0.70570904, 0.29429096],\n",
              "       [0.62292004, 0.37707996],\n",
              "       [0.6153821 , 0.3846179 ],\n",
              "       [0.72951305, 0.27048695],\n",
              "       [0.75999445, 0.24000558],\n",
              "       [0.6619382 , 0.33806178],\n",
              "       [0.67216283, 0.32783723],\n",
              "       [0.64792967, 0.35207033],\n",
              "       [0.6783251 , 0.32167485],\n",
              "       [0.81447685, 0.18552323],\n",
              "       [0.603069  , 0.396931  ],\n",
              "       [0.63516146, 0.36483857],\n",
              "       [0.7232434 , 0.27675655],\n",
              "       [0.6977535 , 0.30224654],\n",
              "       [0.73161334, 0.26838675],\n",
              "       [0.66804314, 0.3319569 ],\n",
              "       [0.5939404 , 0.40605968],\n",
              "       [0.68476355, 0.31523648],\n",
              "       [0.76727426, 0.2327257 ],\n",
              "       [0.6656681 , 0.33433193],\n",
              "       [0.6333087 , 0.36669135],\n",
              "       [0.6156521 , 0.3843479 ],\n",
              "       [0.6922672 , 0.3077328 ],\n",
              "       [0.8324302 , 0.16756979],\n",
              "       [0.6946925 , 0.3053075 ],\n",
              "       [0.6531221 , 0.34687784],\n",
              "       [0.7007926 , 0.2992074 ],\n",
              "       [0.72634953, 0.27365044],\n",
              "       [0.61213636, 0.3878636 ],\n",
              "       [0.58029157, 0.41970846],\n",
              "       [0.66912943, 0.3308706 ],\n",
              "       [0.61240727, 0.3875928 ]], dtype=float32)"
            ]
          },
          "metadata": {
            "tags": []
          },
          "execution_count": 13
        }
      ]
    }
  ]
}